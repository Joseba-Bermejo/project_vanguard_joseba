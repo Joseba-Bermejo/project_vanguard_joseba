{
 "cells": [
  {
   "cell_type": "code",
   "execution_count": 3,
   "id": "56037f5d-ef71-4c30-b466-6cf887fdee85",
   "metadata": {},
   "outputs": [],
   "source": [
    "#Libraries\n",
    "import pandas as pd\n",
    "import seaborn as sns\n",
    "import numpy as np\n",
    "import matplotlib.pyplot as plt\n",
    "import scipy.stats as st\n",
    "from statsmodels.stats.proportion import proportions_ztest\n",
    "import statsmodels.api as sm"
   ]
  },
  {
   "cell_type": "markdown",
   "id": "73292e29-a5ef-4e46-bf9e-69abab91b2b8",
   "metadata": {},
   "source": [
    "## Hypothesis Testing - Completion Rate"
   ]
  },
  {
   "cell_type": "markdown",
   "id": "6fc3790f-dd2e-4f17-b4e9-5c7cccc93114",
   "metadata": {},
   "source": [
    "Given the data and KPIs you have explored discussed, one interesting hypothesis to test is related to the completion rate between the Test and Control groups. Since the new design (Test group) had a higher completion rate compared to the old design (Control group), you are required to confirm if this difference is statistically significant.\n",
    "\n",
    "Make sure to define the proper null and an alternative hypothesis to test it. Use the provided data to test these hypotheses, and determine if you can reject the null hypothesis in favor of the alternative. Make sure to consider the significance level, p-value, the statistical test prerequisites, and other relevant statistical measures in your analysis."
   ]
  },
  {
   "cell_type": "code",
   "execution_count": 14,
   "id": "1456ac49-c696-4078-9a50-8f1f0b5b3e7c",
   "metadata": {},
   "outputs": [],
   "source": [
    "# Completion Rates\n",
    "cr = 0.5444693302507044\n",
    "cr_test = 0.5851734166307626\n",
    "cr_control = 0.4984932740998478\n",
    "\n",
    "# Sample sizes\n",
    "n_test = 37136\n",
    "n_control = 32189"
   ]
  },
  {
   "cell_type": "code",
   "execution_count": 16,
   "id": "e07da3c8-5c87-429b-870e-a746458ddab8",
   "metadata": {},
   "outputs": [],
   "source": [
    "# H0: The new design does not result in a higher completion rate\n",
    "# H1: The new design results in a higher completion rate"
   ]
  },
  {
   "cell_type": "code",
   "execution_count": 18,
   "id": "52ca9cd9-2189-465a-a5f3-93a3f5095366",
   "metadata": {},
   "outputs": [],
   "source": [
    "# Number of completions\n",
    "x_test = int(cr_test * n_test)\n",
    "x_control = int(cr_control * n_control)"
   ]
  },
  {
   "cell_type": "code",
   "execution_count": 20,
   "id": "ed154dab-e523-4cff-b428-737325bd972e",
   "metadata": {},
   "outputs": [],
   "source": [
    "# Counts and sample sizes\n",
    "c = np.array([x_test, x_control])\n",
    "n = np.array([n_test, n_control])"
   ]
  },
  {
   "cell_type": "code",
   "execution_count": 22,
   "id": "5fbd46d2-f658-412e-9819-012180751284",
   "metadata": {},
   "outputs": [
    {
     "name": "stdout",
     "output_type": "stream",
     "text": [
      "Z-statistic: 22.8568\n",
      "P-value: 0.00000000\n"
     ]
    }
   ],
   "source": [
    "# One-tailed z-test (alternative='larger' tests if test > control)\n",
    "z_stat, p_value = proportions_ztest(c, n, alternative='larger')\n",
    "\n",
    "print(f\"Z-statistic: {z_stat:.4f}\")\n",
    "print(f\"P-value: {p_value:.8f}\")"
   ]
  },
  {
   "cell_type": "markdown",
   "id": "1db86c57-caf0-4f5a-8c70-f04c8f36f4b0",
   "metadata": {},
   "source": [
    "#### P-Value is very close to 0, meaning that the null hypothesis can be discarded. The Test group’s higher completion rate is statistically significant."
   ]
  },
  {
   "cell_type": "markdown",
   "id": "56526a68-1f84-4eda-88f8-b175692a32ae",
   "metadata": {},
   "source": [
    "## Hypothesis Testing - Error Rate"
   ]
  },
  {
   "cell_type": "code",
   "execution_count": 32,
   "id": "f115b3b8-eade-467e-8cb1-ba9e1fa7e154",
   "metadata": {},
   "outputs": [
    {
     "name": "stdout",
     "output_type": "stream",
     "text": [
      "Z-statistic: 20.0709\n",
      "P-value: 0.00000000\n"
     ]
    }
   ],
   "source": [
    "# H0: The new design does not increase the error rate\n",
    "# H1: The new design results in a higher error rate\n",
    "\n",
    "# Error rates\n",
    "er_test = 0.2718\n",
    "er_control = 0.2064\n",
    "\n",
    "# Sample sizes\n",
    "nu_test = 37136\n",
    "nu_control = 32189\n",
    "\n",
    "# Number of errors\n",
    "y_test = int(er_test * nu_test)\n",
    "y_control = int(er_control * nu_control)\n",
    "\n",
    "# Counts and sample sizes\n",
    "cou = np.array([y_test, y_control])\n",
    "numm = np.array([nu_test, nu_control])\n",
    "\n",
    "# One-tailed z-test (alternative='larger' tests if test > control)\n",
    "er_z_stat, er_p_value = proportions_ztest(cou, numm, alternative='larger')\n",
    "\n",
    "print(f\"Z-statistic: {er_z_stat:.4f}\")\n",
    "print(f\"P-value: {er_p_value:.8f}\")"
   ]
  },
  {
   "cell_type": "markdown",
   "id": "2c90a823-9216-4d05-b176-a0a89e4a92eb",
   "metadata": {},
   "source": [
    "## Hypothesis Testing - Error Criticality"
   ]
  },
  {
   "cell_type": "code",
   "execution_count": null,
   "id": "3dedd90d-91e5-4ad5-b885-794f13d35427",
   "metadata": {},
   "outputs": [],
   "source": [
    "# H0: The rate of critical errors in Test <= Control\n",
    "# H1: The rate of critical errors in Test > Control\n",
    "\n",
    "# Critical error rates\n",
    "critical_control = 0.4644\n",
    "critical_test = 0.5728\n",
    "\n",
    "# Sample sizes (adjust if different)\n",
    "n_control = 32189\n",
    "n_test = 37136\n",
    "\n",
    "# Number of users who had critical errors\n",
    "x_control = int(critical_control * n_control)\n",
    "x_test = int(critical_test * n_test)\n",
    "\n",
    "# Format for the z-test\n",
    "count = np.array([x_test, x_control])\n",
    "nobs = np.array([n_test, n_control])\n",
    "\n",
    "# One-tailed z-test (testing if Test > Control)\n",
    "z_stat, p_value = proportions_ztest(count, nobs, alternative='larger')\n",
    "\n",
    "print(f\"Z-statistic: {z_stat:.4f}\")\n",
    "print(f\"P-value: {p_value:.8f}\")"
   ]
  },
  {
   "cell_type": "code",
   "execution_count": null,
   "id": "dcc68f3b-9c87-418b-872c-5b2c47603b01",
   "metadata": {},
   "outputs": [],
   "source": []
  },
  {
   "cell_type": "markdown",
   "id": "6c28d4a3-5845-4350-be65-e269dd217bbf",
   "metadata": {},
   "source": [
    "## Hypothesis Testing - Completion Rate with a Cost-Effectiveness Threshold"
   ]
  },
  {
   "cell_type": "markdown",
   "id": "f4c37e7d-1c7a-44a7-9852-3eb1f9f0bec8",
   "metadata": {},
   "source": [
    "The introduction of a new UI design comes with its associated costs: design, development, testing, potential training for staff, and possible short-term disruptions or adjustments for users. To justify these costs, Vanguard has determined that any new design should lead to a minimum increase in the completion rate to be deemed cost-effective.\n",
    "\n",
    "Threshold: Vanguard has set this minimum increase in completion rate at 5%. This is the rate at which the projected benefits, in terms of increased user engagement and potential revenue, are estimated to outweigh the costs of the new design.\n",
    "\n",
    "You are required to carry out another analysis, ensuring that the observed increase in completion rate from the A/B test meets or exceeds this 5% threshold. If the new design doesn't lead to at least this level of improvement, it may not be justifiable from a cost perspective, regardless of its statistical significance."
   ]
  },
  {
   "cell_type": "code",
   "execution_count": 24,
   "id": "926ae35b-09bb-49d5-a9d6-66880fdfea81",
   "metadata": {},
   "outputs": [],
   "source": [
    "# H0 = the new design does not meet the 5% improvement threshold\n",
    "# H1 = the new design meets or exceeds the 5% improvement threshold"
   ]
  },
  {
   "cell_type": "code",
   "execution_count": 26,
   "id": "257fbba9-fe17-4728-b597-3835313c339f",
   "metadata": {},
   "outputs": [],
   "source": [
    "# Define the 5% improvement threshold\n",
    "threshold_completion_rate = 0.4985 + 0.05\n",
    "threshold_difference = threshold_completion_rate - (x_control / n_control)"
   ]
  },
  {
   "cell_type": "code",
   "execution_count": 28,
   "id": "bcf397f5-b434-4594-a27e-35472093ded1",
   "metadata": {},
   "outputs": [
    {
     "name": "stdout",
     "output_type": "stream",
     "text": [
      "New Z-statistic (Threshold Test): 22.8568\n",
      "New P-value (Threshold Test): 0.00000000\n",
      "Threshold completion rate: 0.5485\n"
     ]
    }
   ],
   "source": [
    "# Perform the z-test for the 5% improvement threshold\n",
    "threshold_z_stat, threshold_p_value = proportions_ztest(c, n, alternative='larger')\n",
    "\n",
    "print(f\"New Z-statistic (Threshold Test): {threshold_z_stat:.4f}\")\n",
    "print(f\"New P-value (Threshold Test): {threshold_p_value:.8f}\")\n",
    "print(f\"Threshold completion rate: {threshold_completion_rate:.4f}\")"
   ]
  },
  {
   "cell_type": "markdown",
   "id": "64614315-3bcc-4523-acb0-ee98b91d651c",
   "metadata": {},
   "source": [
    "#### As the p-value is very close to 0 and well below the significance level (0.05), we reject the null hypothesis. The Test group meets and exceeds the 5% improvement threshold."
   ]
  },
  {
   "cell_type": "code",
   "execution_count": null,
   "id": "fb22f051-fb66-4f6b-b1ca-90e1937a35d1",
   "metadata": {},
   "outputs": [],
   "source": []
  },
  {
   "cell_type": "markdown",
   "id": "5faf5fca-3f29-44e8-838a-47178fc8096c",
   "metadata": {},
   "source": [
    "## Hypothesis Testing (exp. validity) - Average age & tenure of clients"
   ]
  },
  {
   "cell_type": "markdown",
   "id": "23be26fb-b90c-4958-bbd1-163730126251",
   "metadata": {},
   "source": [
    "In a well-designed A/B test, random assignment should ensure that user characteristics (like client age and tenure) are similarly distributed across groups.\n",
    "\n",
    "If average age or tenure is significantly different between the Test and Control groups, it might confound the results, because differences in engagement could be due to tenure, not the new design.\n",
    "\n",
    "Now what we would like to test is if the average client tenure and age in the Test group is significantly different from that in the Control group."
   ]
  },
  {
   "cell_type": "code",
   "execution_count": 5,
   "id": "b108ff8e-8384-40d7-afa3-d9b88d4e84d3",
   "metadata": {},
   "outputs": [
    {
     "data": {
      "text/html": [
       "<div>\n",
       "<style scoped>\n",
       "    .dataframe tbody tr th:only-of-type {\n",
       "        vertical-align: middle;\n",
       "    }\n",
       "\n",
       "    .dataframe tbody tr th {\n",
       "        vertical-align: top;\n",
       "    }\n",
       "\n",
       "    .dataframe thead th {\n",
       "        text-align: right;\n",
       "    }\n",
       "</style>\n",
       "<table border=\"1\" class=\"dataframe\">\n",
       "  <thead>\n",
       "    <tr style=\"text-align: right;\">\n",
       "      <th></th>\n",
       "      <th>client_id</th>\n",
       "      <th>Variation</th>\n",
       "      <th>visitor_id</th>\n",
       "      <th>visit_id</th>\n",
       "      <th>process_step</th>\n",
       "      <th>date_time</th>\n",
       "    </tr>\n",
       "  </thead>\n",
       "  <tbody>\n",
       "    <tr>\n",
       "      <th>0</th>\n",
       "      <td>9988021</td>\n",
       "      <td>Test</td>\n",
       "      <td>580560515_7732621733</td>\n",
       "      <td>781255054_21935453173_531117</td>\n",
       "      <td>step_3</td>\n",
       "      <td>2017-04-17 15:27:07</td>\n",
       "    </tr>\n",
       "    <tr>\n",
       "      <th>1</th>\n",
       "      <td>9988021</td>\n",
       "      <td>Test</td>\n",
       "      <td>580560515_7732621733</td>\n",
       "      <td>781255054_21935453173_531117</td>\n",
       "      <td>step_2</td>\n",
       "      <td>2017-04-17 15:26:51</td>\n",
       "    </tr>\n",
       "    <tr>\n",
       "      <th>2</th>\n",
       "      <td>9988021</td>\n",
       "      <td>Test</td>\n",
       "      <td>580560515_7732621733</td>\n",
       "      <td>781255054_21935453173_531117</td>\n",
       "      <td>step_3</td>\n",
       "      <td>2017-04-17 15:19:22</td>\n",
       "    </tr>\n",
       "    <tr>\n",
       "      <th>3</th>\n",
       "      <td>9988021</td>\n",
       "      <td>Test</td>\n",
       "      <td>580560515_7732621733</td>\n",
       "      <td>781255054_21935453173_531117</td>\n",
       "      <td>step_2</td>\n",
       "      <td>2017-04-17 15:19:13</td>\n",
       "    </tr>\n",
       "    <tr>\n",
       "      <th>4</th>\n",
       "      <td>9988021</td>\n",
       "      <td>Test</td>\n",
       "      <td>580560515_7732621733</td>\n",
       "      <td>781255054_21935453173_531117</td>\n",
       "      <td>step_3</td>\n",
       "      <td>2017-04-17 15:18:04</td>\n",
       "    </tr>\n",
       "    <tr>\n",
       "      <th>...</th>\n",
       "      <td>...</td>\n",
       "      <td>...</td>\n",
       "      <td>...</td>\n",
       "      <td>...</td>\n",
       "      <td>...</td>\n",
       "      <td>...</td>\n",
       "    </tr>\n",
       "    <tr>\n",
       "      <th>321304</th>\n",
       "      <td>6334360</td>\n",
       "      <td>Test</td>\n",
       "      <td>629124187_65258232847</td>\n",
       "      <td>586047816_14599436811_389185</td>\n",
       "      <td>step_2</td>\n",
       "      <td>2017-04-11 08:45:38</td>\n",
       "    </tr>\n",
       "    <tr>\n",
       "      <th>321305</th>\n",
       "      <td>6334360</td>\n",
       "      <td>Test</td>\n",
       "      <td>629124187_65258232847</td>\n",
       "      <td>586047816_14599436811_389185</td>\n",
       "      <td>step_1</td>\n",
       "      <td>2017-04-11 08:44:43</td>\n",
       "    </tr>\n",
       "    <tr>\n",
       "      <th>321306</th>\n",
       "      <td>6334360</td>\n",
       "      <td>Test</td>\n",
       "      <td>629124187_65258232847</td>\n",
       "      <td>586047816_14599436811_389185</td>\n",
       "      <td>step_2</td>\n",
       "      <td>2017-04-11 08:44:30</td>\n",
       "    </tr>\n",
       "    <tr>\n",
       "      <th>321307</th>\n",
       "      <td>6334360</td>\n",
       "      <td>Test</td>\n",
       "      <td>629124187_65258232847</td>\n",
       "      <td>586047816_14599436811_389185</td>\n",
       "      <td>step_1</td>\n",
       "      <td>2017-04-11 08:42:36</td>\n",
       "    </tr>\n",
       "    <tr>\n",
       "      <th>321308</th>\n",
       "      <td>6334360</td>\n",
       "      <td>Test</td>\n",
       "      <td>629124187_65258232847</td>\n",
       "      <td>586047816_14599436811_389185</td>\n",
       "      <td>start</td>\n",
       "      <td>2017-04-11 08:42:20</td>\n",
       "    </tr>\n",
       "  </tbody>\n",
       "</table>\n",
       "<p>321309 rows × 6 columns</p>\n",
       "</div>"
      ],
      "text/plain": [
       "        client_id Variation             visitor_id  \\\n",
       "0         9988021      Test   580560515_7732621733   \n",
       "1         9988021      Test   580560515_7732621733   \n",
       "2         9988021      Test   580560515_7732621733   \n",
       "3         9988021      Test   580560515_7732621733   \n",
       "4         9988021      Test   580560515_7732621733   \n",
       "...           ...       ...                    ...   \n",
       "321304    6334360      Test  629124187_65258232847   \n",
       "321305    6334360      Test  629124187_65258232847   \n",
       "321306    6334360      Test  629124187_65258232847   \n",
       "321307    6334360      Test  629124187_65258232847   \n",
       "321308    6334360      Test  629124187_65258232847   \n",
       "\n",
       "                            visit_id process_step            date_time  \n",
       "0       781255054_21935453173_531117       step_3  2017-04-17 15:27:07  \n",
       "1       781255054_21935453173_531117       step_2  2017-04-17 15:26:51  \n",
       "2       781255054_21935453173_531117       step_3  2017-04-17 15:19:22  \n",
       "3       781255054_21935453173_531117       step_2  2017-04-17 15:19:13  \n",
       "4       781255054_21935453173_531117       step_3  2017-04-17 15:18:04  \n",
       "...                              ...          ...                  ...  \n",
       "321304  586047816_14599436811_389185       step_2  2017-04-11 08:45:38  \n",
       "321305  586047816_14599436811_389185       step_1  2017-04-11 08:44:43  \n",
       "321306  586047816_14599436811_389185       step_2  2017-04-11 08:44:30  \n",
       "321307  586047816_14599436811_389185       step_1  2017-04-11 08:42:36  \n",
       "321308  586047816_14599436811_389185        start  2017-04-11 08:42:20  \n",
       "\n",
       "[321309 rows x 6 columns]"
      ]
     },
     "execution_count": 5,
     "metadata": {},
     "output_type": "execute_result"
    }
   ],
   "source": [
    "# upload the experiment + footprint dataframe\n",
    "df = pd.read_csv('/Users/josebabermejo/Ironhack/5. Quests/project_vanguard_joseba/experiment_footprints_clients.csv')\n",
    "df"
   ]
  },
  {
   "cell_type": "code",
   "execution_count": 34,
   "id": "aa984ad9-2ea3-424b-8ba0-97e5ae16497a",
   "metadata": {},
   "outputs": [],
   "source": [
    "# Group by 'client_id' and take the first value of each group\n",
    "grouped_df = df.groupby('client_id', as_index=False).first()"
   ]
  },
  {
   "cell_type": "code",
   "execution_count": 36,
   "id": "145d0608-fad9-4ff8-86a3-95d781689d15",
   "metadata": {},
   "outputs": [],
   "source": [
    "# Drop the column that were not necessary for this analysis\n",
    "grouped_df = grouped_df.drop(['visitor_id', 'visit_id', 'process_step', 'date_time'], axis=1)"
   ]
  },
  {
   "cell_type": "code",
   "execution_count": 40,
   "id": "678e0ec3-1e50-461d-aa94-86a7ea2f8b89",
   "metadata": {},
   "outputs": [],
   "source": [
    "# upload the client profiles csv\n",
    "df1 = pd.read_csv('/Users/josebabermejo/Ironhack/5. Quests/project_vanguard_joseba/client_profiles_clean.csv')"
   ]
  },
  {
   "cell_type": "code",
   "execution_count": 42,
   "id": "7a507a3b-9a14-4c48-816b-965e5785c469",
   "metadata": {},
   "outputs": [],
   "source": [
    "# Group by 'client_id' and take the first value of each group\n",
    "grouped_df1 = df1.groupby('client_id', as_index=False).first()"
   ]
  },
  {
   "cell_type": "code",
   "execution_count": 46,
   "id": "4e7bd339-4492-40f0-b595-ca401eb3b60b",
   "metadata": {},
   "outputs": [],
   "source": [
    "#To drop the column that were not necessary for this analysis\n",
    "grouped_df1 = grouped_df1.drop(['num_accts', 'clnt_tenure_yr', 'bal', 'calls_6_mnth', 'logons_6_mnth', 'gendr'], axis=1)"
   ]
  },
  {
   "cell_type": "code",
   "execution_count": 48,
   "id": "6d8eac6d-2a46-493e-acb7-41611139911e",
   "metadata": {},
   "outputs": [],
   "source": [
    "# convert months to years for readability\n",
    "grouped_df1['clnt_tenure_mnth'] = (grouped_df1['clnt_tenure_mnth'] / 12).round(1)"
   ]
  },
  {
   "cell_type": "code",
   "execution_count": 50,
   "id": "b06191c1-f212-4e54-b568-f9e7fe2aa9a4",
   "metadata": {},
   "outputs": [],
   "source": [
    "# Rename the column\n",
    "grouped_df1.rename(columns={'clnt_tenure_mnth': 'clnt_tenure_yr'}, inplace=True)"
   ]
  },
  {
   "cell_type": "code",
   "execution_count": 52,
   "id": "182bcdad-c26a-49ab-b0b1-5ef95117afb6",
   "metadata": {},
   "outputs": [],
   "source": [
    "# merge the dataframes\n",
    "merged_df = pd.merge(grouped_df1, grouped_df, on='client_id', how='inner')"
   ]
  },
  {
   "cell_type": "markdown",
   "id": "8c4abfea-006c-4ebe-8f95-c6acc98bde63",
   "metadata": {},
   "source": [
    "Test time!"
   ]
  },
  {
   "cell_type": "code",
   "execution_count": 54,
   "id": "ebf700c6-113a-449b-ad38-e6513bf619d5",
   "metadata": {},
   "outputs": [],
   "source": [
    "# H0: Test avg age = Control avg age\n",
    "# H1: Test avg age =! Control avg age\n",
    "\n",
    "# H0: Test avg tenure = Control avg tenure\n",
    "# H1: Test avg tenure =! Control avg tenure"
   ]
  },
  {
   "cell_type": "code",
   "execution_count": 56,
   "id": "42dbff51-339d-4c87-b52d-770d5ba19efc",
   "metadata": {},
   "outputs": [],
   "source": [
    "# Here is to test for the P-value of Clnt_tenure\n",
    "df_test_tenure = merged_df[merged_df[\"Variation\"]==\"Test\"][\"clnt_tenure_yr\"]\n",
    "df_control_tenure = merged_df[merged_df[\"Variation\"]==\"Control\"][\"clnt_tenure_yr\"]"
   ]
  },
  {
   "cell_type": "code",
   "execution_count": 58,
   "id": "fcb401e9-e4c4-4a5a-ba31-b85824a4dd70",
   "metadata": {},
   "outputs": [
    {
     "data": {
      "text/plain": [
       "TtestResult(statistic=1.6596801652982567, pvalue=0.09698514524079052, df=49507.2847926463)"
      ]
     },
     "execution_count": 58,
     "metadata": {},
     "output_type": "execute_result"
    }
   ],
   "source": [
    "st.ttest_ind(df_control_tenure, df_test_tenure, equal_var=False, alternative = 'two-sided')"
   ]
  },
  {
   "cell_type": "code",
   "execution_count": 60,
   "id": "32974fd0-3c32-422c-a6a7-51689f6568d8",
   "metadata": {},
   "outputs": [],
   "source": [
    "# Here is to test for the P-value of Clnt_age\n",
    "df_test_age = merged_df[merged_df[\"Variation\"]==\"Test\"][\"clnt_age\"]\n",
    "df_control_age = merged_df[merged_df[\"Variation\"]==\"Control\"][\"clnt_age\"]"
   ]
  },
  {
   "cell_type": "code",
   "execution_count": 62,
   "id": "b406b60f-86c6-4c83-a23e-74369671177b",
   "metadata": {},
   "outputs": [
    {
     "data": {
      "text/plain": [
       "TtestResult(statistic=2.416068061200627, pvalue=0.015692719461388685, df=49556.715189428134)"
      ]
     },
     "execution_count": 62,
     "metadata": {},
     "output_type": "execute_result"
    }
   ],
   "source": [
    "st.ttest_ind(df_control_age,df_test_age , equal_var=False, alternative = 'two-sided')"
   ]
  },
  {
   "cell_type": "code",
   "execution_count": 64,
   "id": "d1fdad92-3db9-4959-890f-f83c0d621922",
   "metadata": {},
   "outputs": [
    {
     "data": {
      "text/plain": [
       "<Axes: xlabel='clnt_age', ylabel='Count'>"
      ]
     },
     "execution_count": 64,
     "metadata": {},
     "output_type": "execute_result"
    },
    {
     "data": {
      "image/png": "[encoded data removed]",
      "text/plain": [
       "<Figure size 640x480 with 1 Axes>"
      ]
     },
     "metadata": {},
     "output_type": "display_data"
    }
   ],
   "source": [
    "# Histogram to see the distribution as the p value we got was unexpected\n",
    "sns.histplot(data=df_test_age, bins=90)"
   ]
  },
  {
   "cell_type": "code",
   "execution_count": 66,
   "id": "1610e915-e412-4a38-a804-e5058a1a5c7a",
   "metadata": {},
   "outputs": [
    {
     "data": {
      "text/plain": [
       "<Axes: xlabel='clnt_age', ylabel='Count'>"
      ]
     },
     "execution_count": 66,
     "metadata": {},
     "output_type": "execute_result"
    },
    {
     "data": {
      "image/png": "[encoded data removed]",
      "text/plain": [
       "<Figure size 640x480 with 1 Axes>"
      ]
     },
     "metadata": {},
     "output_type": "display_data"
    }
   ],
   "source": [
    "sns.histplot(data=df_control_age, bins=90)"
   ]
  },
  {
   "cell_type": "code",
   "execution_count": null,
   "id": "1bd0ee64-dbce-4e61-af25-5919a044f056",
   "metadata": {},
   "outputs": [],
   "source": []
  },
  {
   "cell_type": "markdown",
   "id": "cf911218-4aaa-437a-b757-8669901d8959",
   "metadata": {},
   "source": [
    "## Experiment evaluation"
   ]
  },
  {
   "cell_type": "markdown",
   "id": "55e39313-de2d-4380-9276-1f408dd5a1eb",
   "metadata": {},
   "source": [
    "You are also required to carry out an evaluation of the experiment by answering questions about the design effectiveness, duration and any additional data needs. See the full details below:\n",
    "\n",
    "- Was the experiment well-structured?\n",
    "- Were clients randomly and equally divided between the old and new designs?\n",
    "- Were there any biases?\n",
    "- Was the timeframe of the experiment (from 3/15/2017 to 6/20/2017) adequate to gather meaningful data and insights?\n",
    "- What other data, if available, could enhance the analysis?"
   ]
  },
  {
   "cell_type": "code",
   "execution_count": 7,
   "id": "fa0a3ccd-4530-4ad8-a94a-d491bbbc8504",
   "metadata": {},
   "outputs": [
    {
     "data": {
      "text/html": [
       "<div>\n",
       "<style scoped>\n",
       "    .dataframe tbody tr th:only-of-type {\n",
       "        vertical-align: middle;\n",
       "    }\n",
       "\n",
       "    .dataframe tbody tr th {\n",
       "        vertical-align: top;\n",
       "    }\n",
       "\n",
       "    .dataframe thead th {\n",
       "        text-align: right;\n",
       "    }\n",
       "</style>\n",
       "<table border=\"1\" class=\"dataframe\">\n",
       "  <thead>\n",
       "    <tr style=\"text-align: right;\">\n",
       "      <th></th>\n",
       "      <th>client_id</th>\n",
       "      <th>Variation</th>\n",
       "      <th>visitor_id</th>\n",
       "      <th>visit_id</th>\n",
       "      <th>process_step</th>\n",
       "      <th>date_time</th>\n",
       "    </tr>\n",
       "  </thead>\n",
       "  <tbody>\n",
       "    <tr>\n",
       "      <th>0</th>\n",
       "      <td>9988021</td>\n",
       "      <td>Test</td>\n",
       "      <td>580560515_7732621733</td>\n",
       "      <td>781255054_21935453173_531117</td>\n",
       "      <td>step_3</td>\n",
       "      <td>2017-04-17 15:27:07</td>\n",
       "    </tr>\n",
       "    <tr>\n",
       "      <th>1</th>\n",
       "      <td>9988021</td>\n",
       "      <td>Test</td>\n",
       "      <td>580560515_7732621733</td>\n",
       "      <td>781255054_21935453173_531117</td>\n",
       "      <td>step_2</td>\n",
       "      <td>2017-04-17 15:26:51</td>\n",
       "    </tr>\n",
       "    <tr>\n",
       "      <th>2</th>\n",
       "      <td>9988021</td>\n",
       "      <td>Test</td>\n",
       "      <td>580560515_7732621733</td>\n",
       "      <td>781255054_21935453173_531117</td>\n",
       "      <td>step_3</td>\n",
       "      <td>2017-04-17 15:19:22</td>\n",
       "    </tr>\n",
       "    <tr>\n",
       "      <th>3</th>\n",
       "      <td>9988021</td>\n",
       "      <td>Test</td>\n",
       "      <td>580560515_7732621733</td>\n",
       "      <td>781255054_21935453173_531117</td>\n",
       "      <td>step_2</td>\n",
       "      <td>2017-04-17 15:19:13</td>\n",
       "    </tr>\n",
       "    <tr>\n",
       "      <th>4</th>\n",
       "      <td>9988021</td>\n",
       "      <td>Test</td>\n",
       "      <td>580560515_7732621733</td>\n",
       "      <td>781255054_21935453173_531117</td>\n",
       "      <td>step_3</td>\n",
       "      <td>2017-04-17 15:18:04</td>\n",
       "    </tr>\n",
       "  </tbody>\n",
       "</table>\n",
       "</div>"
      ],
      "text/plain": [
       "   client_id Variation            visitor_id                      visit_id  \\\n",
       "0    9988021      Test  580560515_7732621733  781255054_21935453173_531117   \n",
       "1    9988021      Test  580560515_7732621733  781255054_21935453173_531117   \n",
       "2    9988021      Test  580560515_7732621733  781255054_21935453173_531117   \n",
       "3    9988021      Test  580560515_7732621733  781255054_21935453173_531117   \n",
       "4    9988021      Test  580560515_7732621733  781255054_21935453173_531117   \n",
       "\n",
       "  process_step            date_time  \n",
       "0       step_3  2017-04-17 15:27:07  \n",
       "1       step_2  2017-04-17 15:26:51  \n",
       "2       step_3  2017-04-17 15:19:22  \n",
       "3       step_2  2017-04-17 15:19:13  \n",
       "4       step_3  2017-04-17 15:18:04  "
      ]
     },
     "execution_count": 7,
     "metadata": {},
     "output_type": "execute_result"
    }
   ],
   "source": [
    "df = pd.read_csv('/Users/josebabermejo/Ironhack/5. Quests/project_vanguard_joseba/experiment_footprints_clients.csv')\n",
    "df.head()"
   ]
  },
  {
   "cell_type": "code",
   "execution_count": 9,
   "id": "79a872e9-372f-4cbc-8bff-ad0680251809",
   "metadata": {},
   "outputs": [
    {
     "data": {
      "text/html": [
       "<div>\n",
       "<style scoped>\n",
       "    .dataframe tbody tr th:only-of-type {\n",
       "        vertical-align: middle;\n",
       "    }\n",
       "\n",
       "    .dataframe tbody tr th {\n",
       "        vertical-align: top;\n",
       "    }\n",
       "\n",
       "    .dataframe thead th {\n",
       "        text-align: right;\n",
       "    }\n",
       "</style>\n",
       "<table border=\"1\" class=\"dataframe\">\n",
       "  <thead>\n",
       "    <tr style=\"text-align: right;\">\n",
       "      <th></th>\n",
       "      <th>client_id</th>\n",
       "      <th>clnt_tenure_yr</th>\n",
       "      <th>clnt_tenure_mnth</th>\n",
       "      <th>clnt_age</th>\n",
       "      <th>gendr</th>\n",
       "      <th>num_accts</th>\n",
       "      <th>bal</th>\n",
       "      <th>calls_6_mnth</th>\n",
       "      <th>logons_6_mnth</th>\n",
       "    </tr>\n",
       "  </thead>\n",
       "  <tbody>\n",
       "    <tr>\n",
       "      <th>0</th>\n",
       "      <td>836976</td>\n",
       "      <td>6.0</td>\n",
       "      <td>73.0</td>\n",
       "      <td>60.5</td>\n",
       "      <td>U</td>\n",
       "      <td>2.0</td>\n",
       "      <td>45105.30</td>\n",
       "      <td>6.0</td>\n",
       "      <td>9.0</td>\n",
       "    </tr>\n",
       "    <tr>\n",
       "      <th>1</th>\n",
       "      <td>2304905</td>\n",
       "      <td>7.0</td>\n",
       "      <td>94.0</td>\n",
       "      <td>58.0</td>\n",
       "      <td>U</td>\n",
       "      <td>2.0</td>\n",
       "      <td>110860.30</td>\n",
       "      <td>6.0</td>\n",
       "      <td>9.0</td>\n",
       "    </tr>\n",
       "    <tr>\n",
       "      <th>2</th>\n",
       "      <td>1439522</td>\n",
       "      <td>5.0</td>\n",
       "      <td>64.0</td>\n",
       "      <td>32.0</td>\n",
       "      <td>U</td>\n",
       "      <td>2.0</td>\n",
       "      <td>52467.79</td>\n",
       "      <td>6.0</td>\n",
       "      <td>9.0</td>\n",
       "    </tr>\n",
       "    <tr>\n",
       "      <th>3</th>\n",
       "      <td>1562045</td>\n",
       "      <td>16.0</td>\n",
       "      <td>198.0</td>\n",
       "      <td>49.0</td>\n",
       "      <td>M</td>\n",
       "      <td>2.0</td>\n",
       "      <td>67454.65</td>\n",
       "      <td>3.0</td>\n",
       "      <td>6.0</td>\n",
       "    </tr>\n",
       "    <tr>\n",
       "      <th>4</th>\n",
       "      <td>5126305</td>\n",
       "      <td>12.0</td>\n",
       "      <td>145.0</td>\n",
       "      <td>33.0</td>\n",
       "      <td>F</td>\n",
       "      <td>2.0</td>\n",
       "      <td>103671.75</td>\n",
       "      <td>0.0</td>\n",
       "      <td>3.0</td>\n",
       "    </tr>\n",
       "  </tbody>\n",
       "</table>\n",
       "</div>"
      ],
      "text/plain": [
       "   client_id  clnt_tenure_yr  clnt_tenure_mnth  clnt_age gendr  num_accts  \\\n",
       "0     836976             6.0              73.0      60.5     U        2.0   \n",
       "1    2304905             7.0              94.0      58.0     U        2.0   \n",
       "2    1439522             5.0              64.0      32.0     U        2.0   \n",
       "3    1562045            16.0             198.0      49.0     M        2.0   \n",
       "4    5126305            12.0             145.0      33.0     F        2.0   \n",
       "\n",
       "         bal  calls_6_mnth  logons_6_mnth  \n",
       "0   45105.30           6.0            9.0  \n",
       "1  110860.30           6.0            9.0  \n",
       "2   52467.79           6.0            9.0  \n",
       "3   67454.65           3.0            6.0  \n",
       "4  103671.75           0.0            3.0  "
      ]
     },
     "execution_count": 9,
     "metadata": {},
     "output_type": "execute_result"
    }
   ],
   "source": [
    "df1 = pd.read_csv('/Users/josebabermejo/Ironhack/5. Quests/project_vanguard_joseba/client_profiles_clean.csv')\n",
    "df1.head()"
   ]
  },
  {
   "cell_type": "code",
   "execution_count": 57,
   "id": "5725ca53-5f0e-41fa-b120-533ffb5ce538",
   "metadata": {},
   "outputs": [
    {
     "name": "stdout",
     "output_type": "stream",
     "text": [
      "(321309, 6)\n",
      "(70594, 9)\n"
     ]
    }
   ],
   "source": [
    "print(df.shape)\n",
    "print(df1.shape)"
   ]
  },
  {
   "cell_type": "code",
   "execution_count": 11,
   "id": "a5002cae-49c9-41d6-baf1-7d3392c4830b",
   "metadata": {},
   "outputs": [],
   "source": [
    "# df: drop columns and groupby client id\n",
    "\n",
    "df_filtered = df[['client_id', 'Variation']]\n",
    "df_grouped = df_filtered.groupby('client_id', as_index=False).first()"
   ]
  },
  {
   "cell_type": "code",
   "execution_count": 13,
   "id": "3d6388a8-09aa-4150-868b-fab79c0f18d8",
   "metadata": {},
   "outputs": [],
   "source": [
    "# df1: drop clnt_tenure_yr\n",
    "\n",
    "df1 = df1.drop(columns=['clnt_tenure_yr'])"
   ]
  },
  {
   "cell_type": "code",
   "execution_count": 15,
   "id": "245b80f4-a7ab-44b9-8e21-58b8375ad161",
   "metadata": {},
   "outputs": [],
   "source": [
    "# Merge df_filtered and df1 on 'client_id'\n",
    "\n",
    "combined_df = pd.merge(df1, df_grouped, on='client_id', how='inner')"
   ]
  },
  {
   "cell_type": "code",
   "execution_count": 17,
   "id": "ef06b29e-c458-43d3-ad8d-1cad9e2ea8ea",
   "metadata": {},
   "outputs": [
    {
     "data": {
      "text/html": [
       "<div>\n",
       "<style scoped>\n",
       "    .dataframe tbody tr th:only-of-type {\n",
       "        vertical-align: middle;\n",
       "    }\n",
       "\n",
       "    .dataframe tbody tr th {\n",
       "        vertical-align: top;\n",
       "    }\n",
       "\n",
       "    .dataframe thead th {\n",
       "        text-align: right;\n",
       "    }\n",
       "</style>\n",
       "<table border=\"1\" class=\"dataframe\">\n",
       "  <thead>\n",
       "    <tr style=\"text-align: right;\">\n",
       "      <th></th>\n",
       "      <th>client_id</th>\n",
       "      <th>clnt_tenure_mnth</th>\n",
       "      <th>clnt_age</th>\n",
       "      <th>gendr</th>\n",
       "      <th>num_accts</th>\n",
       "      <th>bal</th>\n",
       "      <th>calls_6_mnth</th>\n",
       "      <th>logons_6_mnth</th>\n",
       "      <th>Variation</th>\n",
       "    </tr>\n",
       "  </thead>\n",
       "  <tbody>\n",
       "    <tr>\n",
       "      <th>0</th>\n",
       "      <td>836976</td>\n",
       "      <td>73.0</td>\n",
       "      <td>60.5</td>\n",
       "      <td>U</td>\n",
       "      <td>2.0</td>\n",
       "      <td>45105.30</td>\n",
       "      <td>6.0</td>\n",
       "      <td>9.0</td>\n",
       "      <td>Test</td>\n",
       "    </tr>\n",
       "    <tr>\n",
       "      <th>1</th>\n",
       "      <td>2304905</td>\n",
       "      <td>94.0</td>\n",
       "      <td>58.0</td>\n",
       "      <td>U</td>\n",
       "      <td>2.0</td>\n",
       "      <td>110860.30</td>\n",
       "      <td>6.0</td>\n",
       "      <td>9.0</td>\n",
       "      <td>Control</td>\n",
       "    </tr>\n",
       "    <tr>\n",
       "      <th>2</th>\n",
       "      <td>1439522</td>\n",
       "      <td>64.0</td>\n",
       "      <td>32.0</td>\n",
       "      <td>U</td>\n",
       "      <td>2.0</td>\n",
       "      <td>52467.79</td>\n",
       "      <td>6.0</td>\n",
       "      <td>9.0</td>\n",
       "      <td>Test</td>\n",
       "    </tr>\n",
       "    <tr>\n",
       "      <th>3</th>\n",
       "      <td>1562045</td>\n",
       "      <td>198.0</td>\n",
       "      <td>49.0</td>\n",
       "      <td>M</td>\n",
       "      <td>2.0</td>\n",
       "      <td>67454.65</td>\n",
       "      <td>3.0</td>\n",
       "      <td>6.0</td>\n",
       "      <td>Test</td>\n",
       "    </tr>\n",
       "    <tr>\n",
       "      <th>4</th>\n",
       "      <td>5126305</td>\n",
       "      <td>145.0</td>\n",
       "      <td>33.0</td>\n",
       "      <td>F</td>\n",
       "      <td>2.0</td>\n",
       "      <td>103671.75</td>\n",
       "      <td>0.0</td>\n",
       "      <td>3.0</td>\n",
       "      <td>Control</td>\n",
       "    </tr>\n",
       "  </tbody>\n",
       "</table>\n",
       "</div>"
      ],
      "text/plain": [
       "   client_id  clnt_tenure_mnth  clnt_age gendr  num_accts        bal  \\\n",
       "0     836976              73.0      60.5     U        2.0   45105.30   \n",
       "1    2304905              94.0      58.0     U        2.0  110860.30   \n",
       "2    1439522              64.0      32.0     U        2.0   52467.79   \n",
       "3    1562045             198.0      49.0     M        2.0   67454.65   \n",
       "4    5126305             145.0      33.0     F        2.0  103671.75   \n",
       "\n",
       "   calls_6_mnth  logons_6_mnth Variation  \n",
       "0           6.0            9.0      Test  \n",
       "1           6.0            9.0   Control  \n",
       "2           6.0            9.0      Test  \n",
       "3           3.0            6.0      Test  \n",
       "4           0.0            3.0   Control  "
      ]
     },
     "execution_count": 17,
     "metadata": {},
     "output_type": "execute_result"
    }
   ],
   "source": [
    "combined_df.head()"
   ]
  },
  {
   "cell_type": "code",
   "execution_count": 19,
   "id": "85e1cf91-ace5-464e-893e-33fb2bf2ffe5",
   "metadata": {},
   "outputs": [],
   "source": [
    "combined_df.to_excel('experiment_evaluation.xlsx')"
   ]
  },
  {
   "cell_type": "code",
   "execution_count": 69,
   "id": "d3232a1c-9812-494a-89b9-ca11ff5c57a2",
   "metadata": {},
   "outputs": [],
   "source": [
    "# Split the group into 'Test' and 'Control'\n",
    "\n",
    "test_group = combined_df[combined_df['Variation'] == 'Test']\n",
    "control_group = combined_df[combined_df['Variation'] == 'Control']"
   ]
  },
  {
   "cell_type": "code",
   "execution_count": 82,
   "id": "05ef758d-b928-4998-8341-71b209253fb7",
   "metadata": {},
   "outputs": [],
   "source": [
    "numeric_cols = ['clnt_age', 'clnt_tenure_mnth', 'num_accts', 'bal', 'calls_6_mnth', 'logons_6_mnth']"
   ]
  },
  {
   "cell_type": "markdown",
   "id": "bae47f71-d5a9-4235-a988-f2c65b8d2ed4",
   "metadata": {},
   "source": [
    "## MEAN"
   ]
  },
  {
   "cell_type": "code",
   "execution_count": 85,
   "id": "35755778-0eec-4156-8497-c2d30810ef61",
   "metadata": {},
   "outputs": [
    {
     "data": {
      "text/html": [
       "<div>\n",
       "<style scoped>\n",
       "    .dataframe tbody tr th:only-of-type {\n",
       "        vertical-align: middle;\n",
       "    }\n",
       "\n",
       "    .dataframe tbody tr th {\n",
       "        vertical-align: top;\n",
       "    }\n",
       "\n",
       "    .dataframe thead th {\n",
       "        text-align: right;\n",
       "    }\n",
       "</style>\n",
       "<table border=\"1\" class=\"dataframe\">\n",
       "  <thead>\n",
       "    <tr style=\"text-align: right;\">\n",
       "      <th></th>\n",
       "      <th>Test</th>\n",
       "      <th>Control</th>\n",
       "    </tr>\n",
       "  </thead>\n",
       "  <tbody>\n",
       "    <tr>\n",
       "      <th>clnt_age</th>\n",
       "      <td>47.163922</td>\n",
       "      <td>47.498427</td>\n",
       "    </tr>\n",
       "    <tr>\n",
       "      <th>clnt_tenure_mnth</th>\n",
       "      <td>149.852899</td>\n",
       "      <td>151.062102</td>\n",
       "    </tr>\n",
       "    <tr>\n",
       "      <th>num_accts</th>\n",
       "      <td>2.249917</td>\n",
       "      <td>2.259925</td>\n",
       "    </tr>\n",
       "    <tr>\n",
       "      <th>bal</th>\n",
       "      <td>148962.605032</td>\n",
       "      <td>150151.900186</td>\n",
       "    </tr>\n",
       "    <tr>\n",
       "      <th>calls_6_mnth</th>\n",
       "      <td>3.061941</td>\n",
       "      <td>3.129176</td>\n",
       "    </tr>\n",
       "    <tr>\n",
       "      <th>logons_6_mnth</th>\n",
       "      <td>6.101851</td>\n",
       "      <td>6.166242</td>\n",
       "    </tr>\n",
       "  </tbody>\n",
       "</table>\n",
       "</div>"
      ],
      "text/plain": [
       "                           Test        Control\n",
       "clnt_age              47.163922      47.498427\n",
       "clnt_tenure_mnth     149.852899     151.062102\n",
       "num_accts              2.249917       2.259925\n",
       "bal               148962.605032  150151.900186\n",
       "calls_6_mnth           3.061941       3.129176\n",
       "logons_6_mnth          6.101851       6.166242"
      ]
     },
     "execution_count": 85,
     "metadata": {},
     "output_type": "execute_result"
    }
   ],
   "source": [
    "# Create summary table for means\n",
    "\n",
    "mean_df = pd.DataFrame({\n",
    "    'Test': test_group[numeric_cols].mean(),\n",
    "    'Control': control_group[numeric_cols].mean()\n",
    "})\n",
    "mean_df"
   ]
  },
  {
   "cell_type": "markdown",
   "id": "f2b601c8-cc5d-4aff-8da7-29f327c20c1b",
   "metadata": {},
   "source": [
    "## MEDIAN"
   ]
  },
  {
   "cell_type": "code",
   "execution_count": 90,
   "id": "ff7b339e-7136-4abd-872a-71169bc56c4e",
   "metadata": {},
   "outputs": [
    {
     "data": {
      "text/html": [
       "<div>\n",
       "<style scoped>\n",
       "    .dataframe tbody tr th:only-of-type {\n",
       "        vertical-align: middle;\n",
       "    }\n",
       "\n",
       "    .dataframe tbody tr th {\n",
       "        vertical-align: top;\n",
       "    }\n",
       "\n",
       "    .dataframe thead th {\n",
       "        text-align: right;\n",
       "    }\n",
       "</style>\n",
       "<table border=\"1\" class=\"dataframe\">\n",
       "  <thead>\n",
       "    <tr style=\"text-align: right;\">\n",
       "      <th></th>\n",
       "      <th>Test</th>\n",
       "      <th>Control</th>\n",
       "    </tr>\n",
       "  </thead>\n",
       "  <tbody>\n",
       "    <tr>\n",
       "      <th>clnt_age</th>\n",
       "      <td>47.50</td>\n",
       "      <td>48.50</td>\n",
       "    </tr>\n",
       "    <tr>\n",
       "      <th>clnt_tenure_mnth</th>\n",
       "      <td>134.00</td>\n",
       "      <td>137.00</td>\n",
       "    </tr>\n",
       "    <tr>\n",
       "      <th>num_accts</th>\n",
       "      <td>2.00</td>\n",
       "      <td>2.00</td>\n",
       "    </tr>\n",
       "    <tr>\n",
       "      <th>bal</th>\n",
       "      <td>65468.36</td>\n",
       "      <td>66031.45</td>\n",
       "    </tr>\n",
       "    <tr>\n",
       "      <th>calls_6_mnth</th>\n",
       "      <td>3.00</td>\n",
       "      <td>3.00</td>\n",
       "    </tr>\n",
       "    <tr>\n",
       "      <th>logons_6_mnth</th>\n",
       "      <td>6.00</td>\n",
       "      <td>6.00</td>\n",
       "    </tr>\n",
       "  </tbody>\n",
       "</table>\n",
       "</div>"
      ],
      "text/plain": [
       "                      Test   Control\n",
       "clnt_age             47.50     48.50\n",
       "clnt_tenure_mnth    134.00    137.00\n",
       "num_accts             2.00      2.00\n",
       "bal               65468.36  66031.45\n",
       "calls_6_mnth          3.00      3.00\n",
       "logons_6_mnth         6.00      6.00"
      ]
     },
     "execution_count": 90,
     "metadata": {},
     "output_type": "execute_result"
    }
   ],
   "source": [
    "# Create summary table for medians\n",
    "\n",
    "median_df = pd.DataFrame({\n",
    "    'Test': test_group[numeric_cols].median(),\n",
    "    'Control': control_group[numeric_cols].median()\n",
    "})\n",
    "median_df"
   ]
  },
  {
   "cell_type": "code",
   "execution_count": 87,
   "id": "2b7a2351-a6dd-4cad-bfc1-6d0a5c8e09ee",
   "metadata": {},
   "outputs": [
    {
     "data": {
      "text/html": [
       "<div>\n",
       "<style scoped>\n",
       "    .dataframe tbody tr th:only-of-type {\n",
       "        vertical-align: middle;\n",
       "    }\n",
       "\n",
       "    .dataframe tbody tr th {\n",
       "        vertical-align: top;\n",
       "    }\n",
       "\n",
       "    .dataframe thead th {\n",
       "        text-align: right;\n",
       "    }\n",
       "</style>\n",
       "<table border=\"1\" class=\"dataframe\">\n",
       "  <thead>\n",
       "    <tr style=\"text-align: right;\">\n",
       "      <th></th>\n",
       "      <th>Test</th>\n",
       "      <th>Control</th>\n",
       "    </tr>\n",
       "    <tr>\n",
       "      <th>gendr</th>\n",
       "      <th></th>\n",
       "      <th></th>\n",
       "    </tr>\n",
       "  </thead>\n",
       "  <tbody>\n",
       "    <tr>\n",
       "      <th>U</th>\n",
       "      <td>34.375580</td>\n",
       "      <td>34.064439</td>\n",
       "    </tr>\n",
       "    <tr>\n",
       "      <th>M</th>\n",
       "      <td>33.296243</td>\n",
       "      <td>33.877412</td>\n",
       "    </tr>\n",
       "    <tr>\n",
       "      <th>F</th>\n",
       "      <td>32.328178</td>\n",
       "      <td>32.058148</td>\n",
       "    </tr>\n",
       "  </tbody>\n",
       "</table>\n",
       "</div>"
      ],
      "text/plain": [
       "            Test    Control\n",
       "gendr                      \n",
       "U      34.375580  34.064439\n",
       "M      33.296243  33.877412\n",
       "F      32.328178  32.058148"
      ]
     },
     "execution_count": 87,
     "metadata": {},
     "output_type": "execute_result"
    }
   ],
   "source": [
    "# Calculate percentage of gender distribution\n",
    "\n",
    "gender_dist = pd.DataFrame({\n",
    "    'Test': test_group['gendr'].value_counts(normalize=True) * 100,\n",
    "    'Control': control_group['gendr'].value_counts(normalize=True) * 100\n",
    "}).fillna(0)\n",
    "\n",
    "gender_dist"
   ]
  },
  {
   "cell_type": "markdown",
   "id": "397b3ade-a2e9-41aa-89a3-189b9814335f",
   "metadata": {},
   "source": [
    "### Experiment design assessment summary\n",
    "\n",
    "The experiment appears to be well-structured. The Test and Control groups exhibit nearly identical distributions across all key variables (client age, tenure, number of accounts, balance, number of calls, and logons in the past six months). Both the mean and median values for these variables are closely aligned between the groups, suggesting that no group was systematically different from the other at baseline.\n",
    "\n",
    "Clients also seem to have been randomly and equally divided between the old and new designs. The gender distribution is balanced across the groups, with approximately one-third identifying as male, one-third as female, and one-third listed as unknown, a consistency that supports the idea of randomized assignment."
   ]
  },
  {
   "cell_type": "markdown",
   "id": "bae718dc-59da-4079-ae0b-ba7e768d7378",
   "metadata": {},
   "source": [
    "### Duration assessment\n",
    "\n",
    "The experiment ran from March 15 to June 20, spanning just over three months, which aligns well with best practices for traditional A/B testing, particularly in industries such as banking, finance, or tech, where user behavior and conversion cycles may span days to weeks. It also helps mitigate short-term anomalies and provides a stable window for data collection. Therefore, the experiment’s timeframe appears adequate for generating reliable insights, assuming consistent traffic and exposure throughout the period."
   ]
  },
  {
   "cell_type": "markdown",
   "id": "0b221175-76f2-4fd0-8b95-d0d346a6a9a6",
   "metadata": {},
   "source": [
    "### Additional data needs\n",
    "\n",
    "To deepen the analysis and extract more insights, the following data would be valuable:\n",
    "\n",
    "#### 1. Outcome metrics: \n",
    "- Conversions, revenue impact, click-through rates, customer churn, NPS, or account upgrades to assess the actual performance impact of the test.\n",
    "\n",
    "#### 2. Further segmentation:\n",
    "- Customer segments by geography, device type, or channel (app/desktop) to test for heterogeneous treatment effects.\n",
    "\n",
    "#### 3. Traffic data:\n",
    "- Periodic traffic volume and assignment counts to verify even distribution over time, and ensure no implementation errors (like spikes or dips in one group).\n",
    "\n",
    "#### 4. KPI analysis:\n",
    "- Any behavioral or financial KPIs directly affected by the test (e.g., number of transactions, average balance growth)."
   ]
  }
 ],
 "metadata": {
  "kernelspec": {
   "display_name": "Python [conda env:base] *",
   "language": "python",
   "name": "conda-base-py"
  },
  "language_info": {
   "codemirror_mode": {
    "name": "ipython",
    "version": 3
   },
   "file_extension": ".py",
   "mimetype": "text/x-python",
   "name": "python",
   "nbconvert_exporter": "python",
   "pygments_lexer": "ipython3",
   "version": "3.12.7"
  }
 },
 "nbformat": 4,
 "nbformat_minor": 5
}
